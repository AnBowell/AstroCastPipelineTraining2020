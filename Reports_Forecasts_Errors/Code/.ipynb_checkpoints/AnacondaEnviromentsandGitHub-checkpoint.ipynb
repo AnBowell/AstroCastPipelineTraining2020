{
 "cells": [
  {
   "cell_type": "markdown",
   "metadata": {
    "slideshow": {
     "slide_type": "slide"
    }
   },
   "source": [
    "<center><h1>Using Anaconda & Github<h1></center>\n",
    " <center><img src=\"../AC_logo.png\"></center>"
   ]
  },
  {
   "cell_type": "markdown",
   "metadata": {
    "slideshow": {
     "slide_type": "subslide"
    }
   },
   "source": [
    "<center><font size = \"6\"> First, type 'anaconda prompt' into the windows search bar in the bottom left of the screen. Then, run the program. <br><br> You will be greeted by a small application that you can type commands into. <br><br> You will now need to type 'conda activate AstroCastTraining2020'. <br><br> Towards the left of the screen, AstroCastTraining2020 should now appear in brackets.</font></center>"
   ]
  },
  {
   "cell_type": "markdown",
   "metadata": {
    "slideshow": {
     "slide_type": "subslide"
    }
   },
   "source": [
    "<center><font size = \"6\"> Now, we can open jupyter notebooks by typing 'jupyter notebook' </font></center>"
   ]
  },
  {
   "cell_type": "markdown",
   "metadata": {},
   "source": [
    "<center><font size = \"6\"> This is like a normal file explorer, so all we need to do is navigate to the AstroCast training folder and open the notebooks within.</font></center>"
   ]
  },
  {
   "cell_type": "markdown",
   "metadata": {
    "slideshow": {
     "slide_type": "subslide"
    }
   },
   "source": [
    "<center><font size = \"10\"> Anaconda  </font></center>"
   ]
  },
  {
   "cell_type": "markdown",
   "metadata": {
    "slideshow": {
     "slide_type": "subslide"
    }
   },
   "source": [
    "<center><font size = \"6\"> Anaconda is a distribution of Python that comes pre-loaded with thousands of modules that are useful for data science <br><br> It also offers an easy way to download and install addtional modules as well as allowing you to create useful 'enviroment' files that can be used to reproduce results on different computers  </font></center>"
   ]
  },
  {
   "cell_type": "markdown",
   "metadata": {},
   "source": [
    "<center><font size = \"6\"> To create a new enviroment type 'conda create --name AnyNameYouLike' <br><br> We can now activate this enviroment like we did earlier. <br><br> This enviroment, unlike the last, will have none of the additional modules as we have not told anaconda to install an modules yet. </font></center>"
   ]
  },
  {
   "cell_type": "code",
   "execution_count": null,
   "metadata": {},
   "outputs": [],
   "source": []
  },
  {
   "cell_type": "markdown",
   "metadata": {
    "slideshow": {
     "slide_type": "subslide"
    }
   },
   "source": [
    "<center><font size = \"6\"> To install a module it is as simple as typing conda install 'ModuleName' in anaconda prompt. </font></center>"
   ]
  },
  {
   "cell_type": "markdown",
   "metadata": {
    "slideshow": {
     "slide_type": "subslide"
    }
   },
   "source": [
    "<center><font size = \"6\"> Modules can also be removed by typing 'Conda remove ModuleName' </font></center>"
   ]
  },
  {
   "cell_type": "code",
   "execution_count": null,
   "metadata": {
    "slideshow": {
     "slide_type": "subslide"
    }
   },
   "outputs": [],
   "source": []
  },
  {
   "cell_type": "code",
   "execution_count": null,
   "metadata": {},
   "outputs": [],
   "source": []
  },
  {
   "cell_type": "code",
   "execution_count": null,
   "metadata": {},
   "outputs": [],
   "source": []
  },
  {
   "cell_type": "code",
   "execution_count": null,
   "metadata": {},
   "outputs": [],
   "source": []
  }
 ],
 "metadata": {
  "celltoolbar": "Slideshow",
  "kernelspec": {
   "display_name": "Python 3",
   "language": "python",
   "name": "python3"
  },
  "language_info": {
   "codemirror_mode": {
    "name": "ipython",
    "version": 3
   },
   "file_extension": ".py",
   "mimetype": "text/x-python",
   "name": "python",
   "nbconvert_exporter": "python",
   "pygments_lexer": "ipython3",
   "version": "3.7.3"
  }
 },
 "nbformat": 4,
 "nbformat_minor": 2
}
